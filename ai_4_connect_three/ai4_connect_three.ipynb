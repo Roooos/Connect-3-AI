{
 "cells": [
  {
   "cell_type": "markdown",
   "metadata": {},
   "source": [
    "# Connect Three \n",
    "\n",
    "The primary description of this coursework is available on the CM20252 Moodle page. This is the Jupyter notebook you must complete and submit to receive marks. This notebook adds additional detail to the coursework specification but does not repeat the information that has already been provided there. \n",
    "\n",
    "You must follow all instructions given in this notebook precisely.\n",
    "\n",
    "Restart the kernel and run all cells before submitting the notebook. This will guarantee that we will be able to run your code for testing. Remember to save your work regularly.\n",
    "\n",
    "__You will develop players for Connect-Three on a grid that is 5 columns wide and 3 rows high. An example is shown below showing a win for Player Red.__\n",
    "\n",
    "<img src=\"images/connect3.png\" style=\"width: 200px;\"/>"
   ]
  },
  {
   "cell_type": "markdown",
   "metadata": {},
   "source": [
    "## Preliminaries\n",
    "\n",
    "For your reference, below is a visual depiction of the agent-environment interface in reinforcement learning. The interaction of the agent with its environments starts at decision stage $t=0$ with the observation of the current state $s_0$. (Notice that there is no reward at this initial stage.) The agent then chooses an action to execute at decision stage $t=1$. The environment responds by changing its state to $s_1$ and returning the numerical reward signal $r_1$. \n",
    "\n",
    "<img src=\"images/agent-environment.png\" style=\"width: 500px;\"/>\n",
    "\n",
    "<br><br><br>\n",
    "\n",
    "Below, we provide some code that will be useful for implementing parts of this interface. You are not obligated to use this code; please feel free to develop your own code from scratch. \n",
    "\n",
    "### Code details\n",
    "\n",
    "We provide a `Connect` class that you can use to simulate Connect-Three games. The following cells in this section will walk you through the basic usage of this class by playing a couple of games.\n",
    "\n",
    "We import the `connect` module and create a Connect-Three environment called `env`. The constructor method has one argument called `verbose`. If `verbose=True`, the `Connect` object will regularly print the progress of the game. This is useful for getting to know the provided code, debugging your code, or if you just want to play around. You will want to set `verbose=False` when you run hundreds of episodes to complete the marked exercises.\n",
    "\n",
    "This `Connect` environment uses the strings `'o'` and `'x'` instead of different disk colors in order to distinguish between the two players. We can specify who should start the game using the `starting_player` argument."
   ]
  },
  {
   "cell_type": "code",
   "execution_count": 1,
   "metadata": {},
   "outputs": [],
   "source": [
    "#import connect\n",
    "#env = connect.Connect(starting_player='x', verbose=True)"
   ]
  },
  {
   "cell_type": "markdown",
   "metadata": {},
   "source": [
    "\n",
    "We can interact with the environment using the `act()` method. This method takes an `action` (an integer) as input and computes the response of the environment. An action is defined as the column index that a disk is dropped into. The `act()` method returns the `reward` for player `'o'` and a boolean, indicating whether the game is over (`True`) or not (`False`). "
   ]
  },
  {
   "cell_type": "code",
   "execution_count": 2,
   "metadata": {},
   "outputs": [],
   "source": [
    "#reward, game_over = env.act(action=2)\n",
    "#print(\"reward =\", reward)\n",
    "#print(\"game_over =\", game_over)"
   ]
  },
  {
   "cell_type": "markdown",
   "metadata": {},
   "source": [
    "Because we set `verbose=True` when we created our environment, the grid is printed each time we call the `act()` method. You probably might want to set `verbose=False` when you run Q-learning for thousands of episodes. \n",
    "\n",
    "As expected, the `reward` is 0 and no one has won the game yet (`game_over` is `False`). Let us drop another disk into the same column."
   ]
  },
  {
   "cell_type": "code",
   "execution_count": 3,
   "metadata": {},
   "outputs": [],
   "source": [
    "#reward, game_over = env.act(action=2)"
   ]
  },
  {
   "cell_type": "markdown",
   "metadata": {},
   "source": [
    "We see that the `Connect` environment automatically switches the\n",
    "\n",
    "The `grid` is stored as a two-dimensional `numpy` array in the `Connect` class and you can easily access it by calling..."
   ]
  },
  {
   "cell_type": "code",
   "execution_count": 4,
   "metadata": {},
   "outputs": [],
   "source": [
    "#current_grid = env.grid\n",
    "#print(current_grid)"
   ]
  },
  {
   "cell_type": "markdown",
   "metadata": {},
   "source": [
    "Note that the grid now appears to be \"upside down\" because `numpy` arrays are printed from \"top to bottom\".\n",
    "We can also print it the way it is printed by the Connect class by calling..."
   ]
  },
  {
   "cell_type": "code",
   "execution_count": 5,
   "metadata": {},
   "outputs": [],
   "source": [
    "#print(current_grid[::-1])"
   ]
  },
  {
   "cell_type": "markdown",
   "metadata": {},
   "source": [
    "Let's make another move."
   ]
  },
  {
   "cell_type": "code",
   "execution_count": 6,
   "metadata": {},
   "outputs": [],
   "source": [
    "#reward, game_over = env.act(action=2)"
   ]
  },
  {
   "cell_type": "markdown",
   "metadata": {},
   "source": [
    "Let us try to put another disk in the same column with `act(action=2)`. The environment will throw an error because that column is already filled."
   ]
  },
  {
   "cell_type": "code",
   "execution_count": 7,
   "metadata": {},
   "outputs": [],
   "source": [
    "# This cell should throw an IndexError!\n",
    "#env.act(action=2)"
   ]
  },
  {
   "cell_type": "markdown",
   "metadata": {},
   "source": [
    "The attribute `.available_actions` of the `Connect` class contains a `numpy` array of all not yet filled columns. This variable should help you to avoid errors like the one we have just encountered."
   ]
  },
  {
   "cell_type": "code",
   "execution_count": 8,
   "metadata": {},
   "outputs": [],
   "source": [
    "#print(env.available_actions)"
   ]
  },
  {
   "cell_type": "markdown",
   "metadata": {},
   "source": [
    "Note that column index '2' is missing because this column is already filled.\n",
    "\n",
    "Let's keep on playing until some player wins..."
   ]
  },
  {
   "cell_type": "code",
   "execution_count": 9,
   "metadata": {},
   "outputs": [],
   "source": [
    "#reward, game_over = env.act(action=3)\n",
    "#print(\"reward =\", reward, \"game_over =\", game_over) \n",
    "#reward, game_over = env.act(action=1)\n",
    "#print(\"reward =\", reward, \"game_over =\", game_over)\n",
    "#reward, game_over = env.act(action=3)\n",
    "#print(\"reward =\", reward, \"game_over =\", game_over)\n",
    "#reward, game_over = env.act(action=0)\n",
    "#print(\"reward =\", reward, \"game_over =\", game_over)\n",
    "#reward, game_over = env.act(action=3)\n",
    "#print(\"reward =\", reward, \"game_over =\", game_over)"
   ]
  },
  {
   "cell_type": "markdown",
   "metadata": {},
   "source": [
    "#### Note that the `reward` returned by the `act()` method is the reward for player `'o'`.\n",
    "\n",
    "You can reset the game using the `reset()` method. This method cleans the grid and makes sure that the it is the `starting_player`'s turn as defined earlier."
   ]
  },
  {
   "cell_type": "code",
   "execution_count": 10,
   "metadata": {},
   "outputs": [],
   "source": [
    "#env.reset()\n",
    "#reward, game_over = env.act(1)"
   ]
  },
  {
   "cell_type": "markdown",
   "metadata": {},
   "source": [
    "Feel free to modify existing or add new methods to the `Connect` class."
   ]
  },
  {
   "cell_type": "markdown",
   "metadata": {},
   "source": [
    "## Q-learning\n",
    "\n",
    "**Your opponent is always the first player. Your agent is always the second player.**\n",
    "\n",
    "For your reference, the pseudo-code for Q-learning is reproduced below from the textbook (Reinforcement Learning, Sutton & Barto, 1998, Section 6.5).\n",
    "<img src=\"images/q_learning.png\" style=\"width: 600px;\"/>\n",
    "\n",
    "Prepare a **learning curve** following the directions below. We refer to this as Plot 1.\n",
    "\n",
    "After $n$ steps of interaction with the environment, play $m$ games with the current policy of the agent (without modifying the policy). Think of this as interrupting the agent for a period of time to test how well it has learned so far. Your plot should show the total score obtained in these $m$ games as a function of $n, 2n, 3n, … kn$. The choices of $n$ and $k$ are up to you. They should be reasonable values that demonstrate the efficiency of the learning and how well the agent learns to play the game eventually. Use $m=10$. \n",
    "\n",
    "This plot should show the mean performance of `a` agents, not the performance of a single agent. Because of the stochasticity in the environment, you will obtain two different learning curves from two different agents even though they are using exactly the same algorithm. We suggest setting `a` to 20 or higher.\n",
    "\n",
    "Present a single mean learning curve with your choice of parameters $\\epsilon$ and $\\alpha$. The plot should also show (as a baseline) the mean performance of a random agent that does not learn but chooses actions uniformly randomly from among the legal actions. Label this line “Random Agent”. \n",
    "\n",
    "Please include this plot as a static figure in the appropriate cell below. That is, compute the learning curve in the lab or at home (this may take a couple of minutes depending on your implementation) and save the figure in the same directory as your notebook. Import this figure in the appropriate answer cell under (A). You can look at the source code of this markdown cell (double click on it!) to find out how to embed figures using html. Do **not** use drag & drop to include figures; we would not be able to see them! Make sure to include the locally stored images in your submission. "
   ]
  },
  {
   "cell_type": "code",
   "execution_count": 11,
   "metadata": {
    "deletable": false,
    "nbgrader": {
     "checksum": "1431aa87b9e9019a4dbe6e696e0a9082",
     "grade": true,
     "grade_id": "cell-3ac2114f764e8410",
     "locked": false,
     "points": 0,
     "schema_version": 1,
     "solution": true
    },
    "scrolled": false
   },
   "outputs": [],
   "source": [
    "### Write all your code for Part 1 within or above this cell. \n",
    "import numpy as np\n",
    "import random\n",
    "import connect\n",
    "import copy\n",
    "import matplotlib.pyplot as plt\n",
    "\n",
    "def grid_2_string(grid):\n",
    "    str = ''\n",
    "    for r in range(3):\n",
    "        for c in range(5):\n",
    "            if(grid[r][c] == ' '):\n",
    "                str += '0'\n",
    "            else:\n",
    "                str += grid[r][c]\n",
    "        str += '/'\n",
    "    return str\n",
    "\n",
    "##plays n games without learning\n",
    "def play_games(table, n):\n",
    "    env = connect.Connect(starting_player='x', verbose=False)\n",
    "    score = 0\n",
    "    \n",
    "    for play in range(n):\n",
    "        env.reset()\n",
    "        \n",
    "        reward, game_over = env.act(random.choice(env.available_actions))  \n",
    "        \n",
    "        while(not game_over):\n",
    "            state = grid_2_string(env.grid)\n",
    "            avail_act = env.available_actions\n",
    "            \n",
    "            for i in avail_act:\n",
    "                if((str(i) + \":\" + state) not in table):\n",
    "                    table[(str(i) + \":\" + state)] = 0.0\n",
    "\n",
    "            max = table[(str(avail_act[0]) + \":\" + state)]\n",
    "            list = []\n",
    "            for i in avail_act:\n",
    "                value = table[(str(i) + \":\" + state)]\n",
    "                if(value == max):\n",
    "                     list.append(i)\n",
    "                elif(value > max):\n",
    "                    max = value\n",
    "                    list = [i]\n",
    "            action = random.choice(list)\n",
    "\n",
    "            reward, game_over = env.act(action)\n",
    "            if(game_over):\n",
    "                score += reward\n",
    "            else:\n",
    "                reward, game_over = env.act(random.choice(env.available_actions))        \n",
    "                if(game_over):\n",
    "                    score += reward\n",
    "                    \n",
    "    return score\n",
    "\n",
    "\n",
    "#def maxq(grid, qtable):\n",
    "#    maxqv = -1\n",
    "#    state = grid_2_string(grid)       \n",
    "#    for i in range(5):\n",
    "#        key = str(i) + ':' + state          \n",
    "#        if(key in qtable):\n",
    "#            value = qtable[key]\n",
    "#            if(value > maxqv):            \n",
    "#                maxqv = value\n",
    "#    return maxqv\n",
    "\n",
    "##checks if non learning games should be played\n",
    "def check_play(inter, n):\n",
    "    if(inter > 0):\n",
    "        if(inter % n == 0):\n",
    "            return True\n",
    "    return False\n",
    "\n",
    "##mirrors the action state\n",
    "def reverse_state(state):\n",
    "    reverse_state = str(4 - int(state[0])) + ':'\n",
    "    mini_state = ''\n",
    "    \n",
    "    for i in range(18):\n",
    "        if(state[i+2] != '/'):\n",
    "            mini_state += state[i+2]\n",
    "        else:\n",
    "            reverse_state += mini_state[::-1] + '/'\n",
    "            mini_state = ''\n",
    "    return reverse_state\n",
    "\n",
    "\n",
    "def get_performance(n, k, a):\n",
    "    env = connect.Connect(starting_player='x', verbose=False)\n",
    "    run_run_score = np.zeros(shape=(k))\n",
    "    qtable = {}\n",
    "    for ag in range(a):\n",
    "        epsil = 0.2\n",
    "        alph = 0.1\n",
    "        inter = 0\n",
    "        run_score = np.zeros(shape=(k))\n",
    "        qtable.clear()\n",
    "        while(inter <= (k*n)):\n",
    "            env.reset()\n",
    "            current_grid = env.grid\n",
    "\n",
    "            reward, game_over = env.act(random.choice(env.available_actions))\n",
    "            \n",
    "            curr_state = str(random.choice(env.available_actions)) + ':' + grid_2_string(current_grid)\n",
    "            \n",
    "            while(not game_over):\n",
    "                ##initiales new grid and the available moves\n",
    "                state = grid_2_string(env.grid)\n",
    "                avail_act = env.available_actions\n",
    "\n",
    "                ##makes sure all action states an their reverses are in the qtable\n",
    "                for i in avail_act:\n",
    "                    if((str(i) + \":\" + state) not in qtable):\n",
    "                        qtable[(str(i) + \":\" + state)] = 0.0\n",
    "                        qtable[reverse_state(str(i) + \":\" + state)] = 0.0\n",
    "\n",
    "                ##chance for random\n",
    "                if np.random.random() < epsil:\n",
    "                    action = random.choice(avail_act)\n",
    "                ##else find largest q value from availble moves\n",
    "                else:\n",
    "                    max = qtable[(str(avail_act[0]) + \":\" + state)]\n",
    "                    list = []\n",
    "                    for i in avail_act:\n",
    "                        value = qtable[(str(i) + \":\" + state)]\n",
    "                        if(value == max):\n",
    "                            list.append(i)\n",
    "                        elif(value > max):\n",
    "                            max = value\n",
    "                            list = [i]\n",
    "                    action = random.choice(list)\n",
    "                chosen_state = str(action) + \":\" + state\n",
    "\n",
    "                ##ai and rand make a move\n",
    "                meward, game_overa = env.act(action)\n",
    "                reward, game_overb = env.act(random.choice(env.available_actions))\n",
    "                \n",
    "                if(meward > 0):\n",
    "                    reward = 0\n",
    "                \n",
    "                ##finds maximum obtainable q value from the chosen state\n",
    "                #maxqv = -10\n",
    "                #for i in range(5):\n",
    "                #    key = str(i) + ':' + grid_2_string(current_grid)       \n",
    "                #    if(key in qtable):\n",
    "                #        value = qtable[key]\n",
    "                #        if(value > maxqv):            \n",
    "                #            maxqv = value                \n",
    "                \n",
    "                #new_q = qtable[chosen_state] + alph*(meward + reward + maxqv - qtable[chosen_state])\n",
    "                \n",
    "                new_q  = qtable[curr_state] + alph * (meward + reward + qtable[chosen_state] - qtable[curr_state])\n",
    "                qtable[curr_state] = new_q\n",
    "                qtable[reverse_state(curr_state)] = new_q\n",
    "                curr_state = chosen_state\n",
    "\n",
    "                inter += 1\n",
    "                \n",
    "                if(inter > (k*n)):\n",
    "                    break\n",
    "                if(check_play(inter, n)):\n",
    "                    run_score[int(inter/n)-1] = play_games(copy.deepcopy(qtable), 10)\n",
    "                \n",
    "                game_over = game_overa or game_overb\n",
    "            epsil*=0.999\n",
    "            #alph-=0.1*(1/(n*k))\n",
    "\n",
    "        for i in range(k):  \n",
    "            run_run_score[i] += run_score[i]\n",
    "        #print(qtable)\n",
    "        #print('next')\n",
    "    return run_run_score/a\n",
    "\n",
    "##plays games using random moves\n",
    "def play_rand(n):\n",
    "    score = 0\n",
    "    env = connect.Connect(starting_player='x', verbose=False)\n",
    "    for play in range(n):\n",
    "        env.reset()\n",
    "        game_over = False\n",
    "        while(not game_over):\n",
    "            reward, game_over = env.act(random.choice(env.available_actions))\n",
    "            if(game_over):\n",
    "                score += reward\n",
    "            else:\n",
    "                reward, game_over = env.act(random.choice(env.available_actions))        \n",
    "                if(game_over):\n",
    "                    score += reward           \n",
    "    return score\n",
    "\n",
    "\n",
    "def get_rand_perf(k, a):\n",
    "    run_run_score = np.zeros(shape=(k))\n",
    "    for ag in range(a):\n",
    "        run_score = np.zeros(shape=(k))\n",
    "        for i in range(k):\n",
    "            run_score[i] = play_rand(10)\n",
    "        run_run_score += run_score \n",
    "    return run_run_score/a\n",
    "\n",
    "\n",
    "def plot_graph_rand(x_axis, y_axis, y_axis_rand):    \n",
    "    fig, ax = plt.subplots()\n",
    "    \n",
    "    line1, = ax.plot(x_axis, y_axis, 'b-', label='Learning Agent')\n",
    "    line2, = ax.plot(x_axis, y_axis_rand, 'r-', label='Random Agent')\n",
    "\n",
    "    ax.legend(loc='lower right')\n",
    "    plt.show()\n",
    "\n",
    "    \n",
    "def plot_graph(x_axis, y_axis):\n",
    "    plt.plot(x_axis, y_axis, 'b-')\n",
    "    plt.show\n",
    "\n",
    "#n=1500\n",
    "#k=100\n",
    "#a=20\n",
    "#rand_perf = get_rand_perf(k, a)\n",
    "#perf = get_performance(n, k, a)\n",
    "\n",
    "#x_axis = np.zeros(shape=(k))\n",
    "#for q in range(k):\n",
    "#    x_axis[q] = (q+1)*(n)\n",
    "#plot_graph_rand(x_axis, perf, rand_perf)\n"
   ]
  },
  {
   "cell_type": "markdown",
   "metadata": {
    "deletable": false,
    "nbgrader": {
     "checksum": "980d73fb62fae59d610abc96121f71bc",
     "grade": true,
     "grade_id": "cell-ce1405b859519f91",
     "locked": false,
     "points": 60,
     "schema_version": 1,
     "solution": true
    }
   },
   "source": [
    "(A) [continued} Insert your static learning curve here (Plot 1).\n",
    "\n",
    "<img src=\"images/perf_graph_2.PNG\"/>\n",
    "\n",
    "\n",
    "(B) In 3 sentences or less, explain your conclusions from the plot above. How close does your (average) agent get to the best possible level of performance? How efficiently does your (average) agent learn? \n",
    "\n",
    "The average agent plateaus at about 6 points after about 60,000 interactions, this is less than ideal but it does mean it is potentially winning 8 out of the 10 games (and losing the other 2). The code runs slower than I would like, I suspect this may be due to the large dictionaries required\n",
    "\n",
    "\n",
    "(C) In five sentences or less, explain the key aspects of your implementation. How many state-action pairs do you represent in your Q-table? Describe and justify your settings of $\\alpha$ and $\\epsilon$. Are there any things you tried out that are not in your final implementation?\n",
    "\n",
    "Every state is mirrored so all possible states are added twice as fast as they would otherwise. \n",
    "Epsilon starts off relatively large at 0.2, this is so that the agent explores as much as possible when first starting out, but as the estimates get better epsilon decreases so the agent realises more on the accuracy of the q values.\n",
    "Alpha is initially set to 0.15. I have experimented with increasing over time as the estimates get better, so they are weighted more than the current value, but the results were similar so I decided against it.\n",
    "\n",
    "\n",
    "(D) In the cell below, make it possible for us to produce from scratch a learning curve similar to Plot 1 but for a single agent, for a $k$ value of your own choosing. You do not need to include the baseline for random play.  This code should run in less than 30 seconds (ours runs in 2 seconds). \n"
   ]
  },
  {
   "cell_type": "code",
   "execution_count": 12,
   "metadata": {
    "deletable": false,
    "nbgrader": {
     "checksum": "e65915a61d304027e4fbd2e714c4beba",
     "grade": true,
     "grade_id": "cell-e0e01e05236aee45",
     "locked": false,
     "points": 40,
     "schema_version": 1,
     "solution": true
    },
    "scrolled": false
   },
   "outputs": [
    {
     "data": {
      "image/png": "[encoded data removed]",
      "text/plain": [
       "<Figure size 432x288 with 1 Axes>"
      ]
     },
     "metadata": {
      "needs_background": "light"
     },
     "output_type": "display_data"
    }
   ],
   "source": [
    "### This cell should produce from scratch a plot showing a learning curve for a single agent.\n",
    "import connect\n",
    "env = connect.Connect(starting_player='x', verbose=False)\n",
    "n=750\n",
    "k=50\n",
    "a=1\n",
    "perf = get_performance(n, k, a)\n",
    "x_axis = np.zeros(shape=(k))\n",
    "\n",
    "for q in range(k):\n",
    "    x_axis[q] = (q+1)*(n)\n",
    "plot_graph(x_axis, perf)"
   ]
  },
  {
   "cell_type": "markdown",
   "metadata": {},
   "source": [
    "# IMPORTANT: How to submit.\n",
    "\n",
    "If any of the following instructions is not clear, please ask your tutors well ahead of the submission deadline.\n",
    "\n",
    "### Before you submit\n",
    "- We will not be able to mark your coursework if it takes more than 1 minutes to execute your entire notebook. That is, comment out (but do not delete) the code that you used to produce Plot 1 (i.e., learning curve averaged across many agents). Do **not** comment out the code that you use to produce a learning curve for a single agent (Exercise D).\n",
    "- Restart the kernel (_Kernel $\\rightarrow$ Restart & Run All_) and make sure that you can run all cells from top to bottom without any errors.\n",
    "- Make sure that your code is written in Python 3 (and not in Python 2!). You can check the Python version of the current session in the top-right corner below the Python logo.\n",
    "\n",
    "### Submission file\n",
    "- Please upload to Moodle a .zip file (**not** `.rar`, `.7z`, or any other archive format) that contains the completed Jupyter notebook (`ai4_connect_three.ipynb`) as well as the pre-computed figure(s). \n",
    "- **If** you change the `connect.py` file or write your own version of the environment, include the corresponding file in your submission, but give it any other name than `connect.py`. If you do not change its name, it will be overwritten  and we won't be able to execute your code! Make sure that you import the correct module when you rename your file, for example, use `import myConnect` if your file is called `myConnect.py`.\n",
    "- Do not include any identifying information. Not in the code cells, not in the file names, nowhere! Marking is anonymous."
   ]
  },
  {
   "cell_type": "code",
   "execution_count": null,
   "metadata": {},
   "outputs": [],
   "source": []
  },
  {
   "cell_type": "code",
   "execution_count": null,
   "metadata": {},
   "outputs": [],
   "source": []
  }
 ],
 "metadata": {
  "kernelspec": {
   "display_name": "Python 3",
   "language": "python",
   "name": "python3"
  },
  "language_info": {
   "codemirror_mode": {
    "name": "ipython",
    "version": 3
   },
   "file_extension": ".py",
   "mimetype": "text/x-python",
   "name": "python",
   "nbconvert_exporter": "python",
   "pygments_lexer": "ipython3",
   "version": "3.7.1"
  }
 },
 "nbformat": 4,
 "nbformat_minor": 2
}
